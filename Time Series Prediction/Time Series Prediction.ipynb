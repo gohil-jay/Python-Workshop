{
  "nbformat": 4,
  "nbformat_minor": 0,
  "metadata": {
    "colab": {
      "name": "Time Series Prediction.ipynb",
      "provenance": [],
      "collapsed_sections": []
    },
    "kernelspec": {
      "name": "python3",
      "display_name": "Python 3"
    }
  },
  "cells": [
    {
      "cell_type": "markdown",
      "metadata": {
        "id": "U6W0fZSaQYTF"
      },
      "source": [
        "# **Stock Market Prediction using Python**\n",
        "\n",
        "by Jay Gohil\n",
        "\n",
        "---"
      ]
    },
    {
      "cell_type": "markdown",
      "metadata": {
        "id": "-vu3OK01Qly6"
      },
      "source": [
        "# **Installing and importing necessary libraries**\n",
        "\n",
        "---"
      ]
    },
    {
      "cell_type": "code",
      "metadata": {
        "id": "iWhj9dNCHHzs",
        "colab": {
          "base_uri": "https://localhost:8080/"
        },
        "outputId": "ebb0e593-d75c-4277-8e57-6baf665b244e"
      },
      "source": [
        "#Installing 'quandl'\n",
        "!pip install quandl"
      ],
      "execution_count": null,
      "outputs": [
        {
          "output_type": "stream",
          "text": [
            "Requirement already satisfied: quandl in /usr/local/lib/python3.7/dist-packages (3.6.1)\n",
            "Requirement already satisfied: pandas>=0.14 in /usr/local/lib/python3.7/dist-packages (from quandl) (1.1.5)\n",
            "Requirement already satisfied: numpy>=1.8 in /usr/local/lib/python3.7/dist-packages (from quandl) (1.19.5)\n",
            "Requirement already satisfied: six in /usr/local/lib/python3.7/dist-packages (from quandl) (1.15.0)\n",
            "Requirement already satisfied: more-itertools in /usr/local/lib/python3.7/dist-packages (from quandl) (8.7.0)\n",
            "Requirement already satisfied: requests>=2.7.0 in /usr/local/lib/python3.7/dist-packages (from quandl) (2.23.0)\n",
            "Requirement already satisfied: python-dateutil in /usr/local/lib/python3.7/dist-packages (from quandl) (2.8.1)\n",
            "Requirement already satisfied: inflection>=0.3.1 in /usr/local/lib/python3.7/dist-packages (from quandl) (0.5.1)\n",
            "Requirement already satisfied: pytz>=2017.2 in /usr/local/lib/python3.7/dist-packages (from pandas>=0.14->quandl) (2018.9)\n",
            "Requirement already satisfied: idna<3,>=2.5 in /usr/local/lib/python3.7/dist-packages (from requests>=2.7.0->quandl) (2.10)\n",
            "Requirement already satisfied: chardet<4,>=3.0.2 in /usr/local/lib/python3.7/dist-packages (from requests>=2.7.0->quandl) (3.0.4)\n",
            "Requirement already satisfied: urllib3!=1.25.0,!=1.25.1,<1.26,>=1.21.1 in /usr/local/lib/python3.7/dist-packages (from requests>=2.7.0->quandl) (1.24.3)\n",
            "Requirement already satisfied: certifi>=2017.4.17 in /usr/local/lib/python3.7/dist-packages (from requests>=2.7.0->quandl) (2020.12.5)\n"
          ],
          "name": "stdout"
        }
      ]
    },
    {
      "cell_type": "code",
      "metadata": {
        "id": "JyMwVcY8SLjB"
      },
      "source": [
        "#Impoting necessary packages and libraries\n",
        "import quandl, math\n",
        "import numpy as np\n",
        "import seaborn as sns\n",
        "import matplotlib.pyplot as plt\n",
        "from sklearn.model_selection import train_test_split\n",
        "from sklearn import preprocessing\n",
        "from sklearn.linear_model import LinearRegression\n",
        "from sklearn.metrics import mean_squared_error"
      ],
      "execution_count": null,
      "outputs": []
    },
    {
      "cell_type": "markdown",
      "metadata": {
        "id": "29iSZFr3QvNe"
      },
      "source": [
        "# **Taking data of stock from 'quandl'**\n",
        "\n",
        "---"
      ]
    },
    {
      "cell_type": "code",
      "metadata": {
        "id": "bmCDj5bLSPH-",
        "colab": {
          "base_uri": "https://localhost:8080/"
        },
        "outputId": "a9c75cb6-3b4d-400c-a645-c7e07ead227d"
      },
      "source": [
        "#Defining the API key for Qyandl\n",
        "auth_tok = \"zT6DNLxAdJuUdyySgxGN\"\n",
        "\n",
        "#Taking the data from Quandle into variable 'data'\n",
        "data = quandl.get(\"EOD/AAPL\", trim_start = \"2000-12-12\", trim_end = \"2020-12-30\", authtoken=auth_tok)\n",
        "\n",
        "#Printing the dataset\n",
        "print(data)"
      ],
      "execution_count": null,
      "outputs": [
        {
          "output_type": "stream",
          "text": [
            "              Open     High      Low  ...    Adj_Low  Adj_Close   Adj_Volume\n",
            "Date                                  ...                                   \n",
            "2013-09-03  493.10  500.600  487.350  ...  15.414405  15.453308  331928800.0\n",
            "2013-09-04  499.56  502.240  496.280  ...  15.696852  15.773109  345032800.0\n",
            "2013-09-05  500.25  500.680  493.640  ...  15.613351  15.664906  236367600.0\n",
            "2013-09-06  498.44  499.380  489.950  ...  15.496640  15.758212  359525600.0\n",
            "2013-09-09  505.00  507.920  503.480  ...  15.924581  16.009663  340687200.0\n",
            "...            ...      ...      ...  ...        ...        ...          ...\n",
            "2017-12-21  174.17  176.020  174.100  ...  41.820043  42.038631   83799584.0\n",
            "2017-12-22  174.68  175.424  174.500  ...  41.916125  42.038631   65397776.0\n",
            "2017-12-26  170.80  171.470  169.679  ...  40.758087  40.972112  132742144.0\n",
            "2017-12-27  170.10  170.780  169.710  ...  40.765534  40.979318   85992852.0\n",
            "2017-12-28  171.00  171.850  170.480  ...  40.950493  41.094617   65920748.0\n",
            "\n",
            "[1090 rows x 12 columns]\n"
          ],
          "name": "stdout"
        }
      ]
    },
    {
      "cell_type": "markdown",
      "metadata": {
        "id": "U4JWqfHxQ-Mq"
      },
      "source": [
        "# **Engineering the data**\n",
        "\n",
        "---"
      ]
    },
    {
      "cell_type": "code",
      "metadata": {
        "id": "1mw8Tk9BSTIM",
        "colab": {
          "base_uri": "https://localhost:8080/"
        },
        "outputId": "b674f49a-3c98-4583-b6db-98849808380e"
      },
      "source": [
        "#Taking only necessary columns in dataset (for creating new columns)\n",
        "data = data[['Adj_Open',  'Adj_High',  'Adj_Low',  'Adj_Close', 'Adj_Volume']]\n",
        "\n",
        "#Creating new columns, and adding data for them using specific formula\n",
        "data['HL_PCT'] = (data['Adj_High'] - data['Adj_Low']) / data['Adj_Close'] * 100.0\n",
        "data['PCT_change'] = (data['Adj_Close'] - data['Adj_Open']) / data['Adj_Open'] * 100.0\n",
        "\n",
        "#Taking only ncessary columns in final working dataset\n",
        "data = data[['Adj_Close', 'HL_PCT', 'PCT_change', 'Adj_Volume']]\n",
        "\n",
        "#Printing the updated dataset\n",
        "print(data)"
      ],
      "execution_count": null,
      "outputs": [
        {
          "output_type": "stream",
          "text": [
            "            Adj_Close    HL_PCT  PCT_change   Adj_Volume\n",
            "Date                                                    \n",
            "2013-09-03  15.453308  2.711941   -0.916650  331928800.0\n",
            "2013-09-04  15.773109  1.195129   -0.173953  345032800.0\n",
            "2013-09-05  15.664906  1.421447   -0.995502  236367600.0\n",
            "2013-09-06  15.758212  1.892738   -0.044138  359525600.0\n",
            "2013-09-09  16.009663  0.877176    0.231683  340687200.0\n",
            "...               ...       ...         ...          ...\n",
            "2017-12-21  42.038631  1.097080    0.482287   83799584.0\n",
            "2017-12-22  42.038631  0.527970    0.188917   65397776.0\n",
            "2017-12-26  40.972112  1.050009   -0.134660  132742144.0\n",
            "2017-12-27  40.979318  0.627198    0.293945   85992852.0\n",
            "2017-12-28  41.094617  0.800795    0.046784   65920748.0\n",
            "\n",
            "[1090 rows x 4 columns]\n"
          ],
          "name": "stdout"
        }
      ]
    },
    {
      "cell_type": "markdown",
      "metadata": {
        "id": "dsQ1NhK1RW_h"
      },
      "source": [
        "# **Visualizing the dataset**\n",
        "\n",
        "---"
      ]
    },
    {
      "cell_type": "code",
      "metadata": {
        "id": "hxsWGq4EPm-2",
        "colab": {
          "base_uri": "https://localhost:8080/",
          "height": 294
        },
        "outputId": "9343deae-9b0c-426b-b58b-85e6f72ba62c"
      },
      "source": [
        "print(data[\"Adj_Close\"].plot())"
      ],
      "execution_count": null,
      "outputs": [
        {
          "output_type": "stream",
          "text": [
            "AxesSubplot(0.125,0.2;0.775x0.68)\n"
          ],
          "name": "stdout"
        },
        {
          "output_type": "display_data",
          "data": {
            "image/png": "[encoded data removed]",
            "text/plain": [
              "<Figure size 432x288 with 1 Axes>"
            ]
          },
          "metadata": {
            "tags": [],
            "needs_background": "light"
          }
        }
      ]
    },
    {
      "cell_type": "code",
      "metadata": {
        "id": "KY4HnoHAPVfP",
        "colab": {
          "base_uri": "https://localhost:8080/",
          "height": 305
        },
        "outputId": "4e5a9c47-fdb6-4b91-b4a6-1271864e8ec0"
      },
      "source": [
        "print(data[\"Adj_Volume\"].plot())"
      ],
      "execution_count": null,
      "outputs": [
        {
          "output_type": "stream",
          "text": [
            "AxesSubplot(0.125,0.2;0.775x0.68)\n"
          ],
          "name": "stdout"
        },
        {
          "output_type": "display_data",
          "data": {
            "image/png": "[encoded data removed]",
            "text/plain": [
              "<Figure size 432x288 with 1 Axes>"
            ]
          },
          "metadata": {
            "tags": [],
            "needs_background": "light"
          }
        }
      ]
    },
    {
      "cell_type": "code",
      "metadata": {
        "id": "Bwe2RifxQDdb",
        "colab": {
          "base_uri": "https://localhost:8080/",
          "height": 294
        },
        "outputId": "afce7bd6-6164-4a5e-c190-28c834902bc5"
      },
      "source": [
        "print(data[\"PCT_change\"].plot())"
      ],
      "execution_count": null,
      "outputs": [
        {
          "output_type": "stream",
          "text": [
            "AxesSubplot(0.125,0.2;0.775x0.68)\n"
          ],
          "name": "stdout"
        },
        {
          "output_type": "display_data",
          "data": {
            "image/png": "[encoded data removed]",
            "text/plain": [
              "<Figure size 432x288 with 1 Axes>"
            ]
          },
          "metadata": {
            "tags": [],
            "needs_background": "light"
          }
        }
      ]
    },
    {
      "cell_type": "code",
      "metadata": {
        "id": "sY7aau6TQOs6",
        "colab": {
          "base_uri": "https://localhost:8080/",
          "height": 294
        },
        "outputId": "01fb760f-c472-4b40-8787-e025cd9c317f"
      },
      "source": [
        "print(data[\"HL_PCT\"].plot())"
      ],
      "execution_count": null,
      "outputs": [
        {
          "output_type": "stream",
          "text": [
            "AxesSubplot(0.125,0.2;0.775x0.68)\n"
          ],
          "name": "stdout"
        },
        {
          "output_type": "display_data",
          "data": {
            "image/png": "[encoded data removed]",
            "text/plain": [
              "<Figure size 432x288 with 1 Axes>"
            ]
          },
          "metadata": {
            "tags": [],
            "needs_background": "light"
          }
        }
      ]
    },
    {
      "cell_type": "code",
      "metadata": {
        "id": "9E0Lm9kYO8Uj",
        "colab": {
          "base_uri": "https://localhost:8080/",
          "height": 321
        },
        "outputId": "70725810-55bf-4613-a273-b2288089fd56"
      },
      "source": [
        "#Checking correlation among features\n",
        "print(\"Visualizing correlation between features using heatmap -->\\n\")\n",
        "sns.heatmap(data.corr(method='pearson'), cmap='Blues')"
      ],
      "execution_count": null,
      "outputs": [
        {
          "output_type": "stream",
          "text": [
            "Visualizing correlation between features using heatmap -->\n",
            "\n"
          ],
          "name": "stdout"
        },
        {
          "output_type": "execute_result",
          "data": {
            "text/plain": [
              "<matplotlib.axes._subplots.AxesSubplot at 0x7fd72c4bf850>"
            ]
          },
          "metadata": {
            "tags": []
          },
          "execution_count": 12
        },
        {
          "output_type": "display_data",
          "data": {
            "image/png": "[encoded data removed]",
            "text/plain": [
              "<Figure size 432x288 with 2 Axes>"
            ]
          },
          "metadata": {
            "tags": [],
            "needs_background": "light"
          }
        }
      ]
    },
    {
      "cell_type": "markdown",
      "metadata": {
        "id": "u1VXM-ZyRdmo"
      },
      "source": [
        "# **Cleaning and preparing dataset for Machine Learning**\n",
        "\n",
        "---"
      ]
    },
    {
      "cell_type": "code",
      "metadata": {
        "id": "rgbNt45wSbJF"
      },
      "source": [
        "#Defining forecasting column\n",
        "forecast_col = 'Adj_Close'\n",
        "\n",
        "#Replacing NaN values with '-99999' value which is considered as an outlier by most ML classifiers\n",
        "data.fillna(value=-99999, inplace=True)\n",
        "\n",
        "#Forecasting out 1% of the dataset's length\n",
        "forecast_out = int(math.ceil(0.01 * len(data)))\n",
        "\n",
        "#Adding a new coumn for 'label'\n",
        "data['label'] = data[forecast_col].shift(-forecast_out)"
      ],
      "execution_count": null,
      "outputs": []
    },
    {
      "cell_type": "code",
      "metadata": {
        "colab": {
          "base_uri": "https://localhost:8080/"
        },
        "id": "ewjzIdGRsIiq",
        "outputId": "f8651eb3-807d-4868-ff11-5d153b2d067b"
      },
      "source": [
        "print(data)"
      ],
      "execution_count": null,
      "outputs": [
        {
          "output_type": "stream",
          "text": [
            "            Adj_Close    HL_PCT  PCT_change   Adj_Volume      label\n",
            "Date                                                               \n",
            "2013-09-03  15.453308  2.711941   -0.916650  331928800.0  14.697375\n",
            "2013-09-04  15.773109  1.195129   -0.173953  345032800.0  14.938388\n",
            "2013-09-05  15.664906  1.421447   -0.995502  236367600.0  14.783722\n",
            "2013-09-06  15.758212  1.892738   -0.044138  359525600.0  15.518464\n",
            "2013-09-09  16.009663  0.877176    0.231683  340687200.0  15.469755\n",
            "...               ...       ...         ...          ...        ...\n",
            "2017-12-06  40.597389  2.215668    0.901493  114240000.0        NaN\n",
            "2017-12-07  40.671853  0.903614    0.171567  102693232.0        NaN\n",
            "2017-12-08  40.683863  1.287123   -0.656930   93420924.0        NaN\n",
            "2017-12-11  41.476547  2.374472    2.050827  141095036.0        NaN\n",
            "2017-12-12  41.243546  0.541060   -0.261400   77636920.0        NaN\n",
            "\n",
            "[1079 rows x 5 columns]\n"
          ],
          "name": "stdout"
        }
      ]
    },
    {
      "cell_type": "code",
      "metadata": {
        "id": "eR0CTAH5Scwt",
        "colab": {
          "base_uri": "https://localhost:8080/"
        },
        "outputId": "bcf494aa-1285-46ad-bbb3-b1eaf3c89e63"
      },
      "source": [
        "#Preparing X and y\n",
        "X = np.array(data.drop(['label'], 1))\n",
        "X = preprocessing.scale(X)\n",
        "X = X[:-forecast_out]\n",
        "data.dropna(inplace=True) #Dropping NaN values\n",
        "y = np.array(data['label'])\n",
        "\n",
        "#Splitting the data into 80:20 ratio\n",
        "X_train, X_test, y_train, y_test = train_test_split(X, y, test_size=0.2)\n",
        "\n",
        "#Training the linear regression model\n",
        "clf = LinearRegression(n_jobs=-1)\n",
        "clf.fit(X_train, y_train)"
      ],
      "execution_count": null,
      "outputs": [
        {
          "output_type": "execute_result",
          "data": {
            "text/plain": [
              "LinearRegression(copy_X=True, fit_intercept=True, n_jobs=-1, normalize=False)"
            ]
          },
          "metadata": {
            "tags": []
          },
          "execution_count": 21
        }
      ]
    },
    {
      "cell_type": "code",
      "metadata": {
        "id": "w2ZyQp9AG2zK",
        "colab": {
          "base_uri": "https://localhost:8080/"
        },
        "outputId": "72640028-37f4-4a5a-e6f3-fe24ef0d68a5"
      },
      "source": [
        "#Predicting y values\n",
        "y_predicted = clf.predict(X_test)\n",
        "\n",
        "#Printing predicted values\n",
        "print(y_predicted)"
      ],
      "execution_count": null,
      "outputs": [
        {
          "output_type": "stream",
          "text": [
            "[29.17436868 27.69510276 23.24696878 36.93608036 26.51039925 16.81235045\n",
            " 35.92133442 16.02736165 25.21301436 17.126937   22.39252598 26.83094429\n",
            " 29.41767428 36.78161106 22.72712335 24.05480668 26.11538553 27.22836308\n",
            " 16.18278918 23.82454002 25.46776014 23.64936609 30.45657779 34.61821726\n",
            " 19.80447    20.81906656 17.31861312 38.26025316 26.03512214 17.9951538\n",
            " 30.0458921  28.78259694 23.18980254 18.438123   23.20535114 35.99387965\n",
            " 24.91633454 17.56416495 29.5810524  22.19759908 27.12240655 32.2706946\n",
            " 31.47959185 24.54405895 29.7105804  29.19938516 16.84899432 26.04443394\n",
            " 27.05799879 20.2771854  24.73627465 34.56164532 25.63380698 34.28337246\n",
            " 25.62721527 23.03806851 38.84402528 20.92556735 18.43155136 26.40889375\n",
            " 22.90562261 39.53274254 24.22084661 18.22756605 37.02737679 15.84919197\n",
            " 25.77082459 34.43043883 21.54501418 17.76290646 27.73311869 27.62159701\n",
            " 23.41281511 22.16630841 27.35950899 37.92399303 17.2625361  16.01531553\n",
            " 26.51633809 34.62495593 17.43238643 29.46219068 24.1621468  25.73445909\n",
            " 22.48591009 36.73712008 22.74526477 15.69798477 22.78550687 17.35741147\n",
            " 25.94884262 29.32146585 23.38798644 17.15486453 26.10036417 21.56091807\n",
            " 17.62068793 30.5906711  19.65110504 25.65038597 35.96891046 24.85975693\n",
            " 25.80426258 20.00941566 29.41267709 25.2790659  28.48444832 39.03216268\n",
            " 26.64698659 14.85504254 26.89648225 34.84616397 26.68274732 29.61261294\n",
            " 29.37978466 36.54926417 28.0331053  29.10351424 17.03124643 22.4268719\n",
            " 16.90673819 34.59544347 26.02298133 27.02926923 28.57895384 25.19497091\n",
            " 27.72160848 26.64659725 25.85695734 37.58118765 24.11387372 28.40363366\n",
            " 28.89163867 22.99060937 34.29960016 23.15853662 16.93981363 29.72821154\n",
            " 26.76205073 22.05862708 22.66870951 29.27230964 25.23022984 21.06683986\n",
            " 38.71223124 22.92312405 22.02886355 26.5622222  29.79587905 26.04459577\n",
            " 22.05889336 30.33710296 16.14561422 27.9684872  36.02310324 25.90384081\n",
            " 25.63290328 26.68626333 26.91917893 25.97988587 29.31910638 22.94797925\n",
            " 36.83440851 25.70823831 15.56214041 22.90871554 23.11748668 37.41523727\n",
            " 30.45372546 27.24604924 24.53746374 24.96951829 37.61363248 22.91695262\n",
            " 26.24324982 37.28182072 22.71652015 34.90397573 34.61399941 25.97482762\n",
            " 26.8076104  40.27051539 17.55566919 38.35206625 26.62652136 26.37367681\n",
            " 17.39396342 31.69058706 28.48059531 28.60330009 35.07536982 25.41402543\n",
            " 35.21436843 16.88166448 29.22285493 22.69475206 22.02569845 39.14840904\n",
            " 25.61305117 28.51864769 17.53253415 16.04097086 22.20763777 16.63560238\n",
            " 27.36447597 28.84153619 21.40675783 29.01197261 30.37108172 17.47048418\n",
            " 25.60346056 29.14636667 40.02917973 21.55585692]\n"
          ],
          "name": "stdout"
        }
      ]
    },
    {
      "cell_type": "code",
      "metadata": {
        "id": "mbyiIWklSNdu",
        "colab": {
          "base_uri": "https://localhost:8080/",
          "height": 416
        },
        "outputId": "a6a2a19f-887f-44de-d6fe-3ec2ca98c3e9"
      },
      "source": [
        "temp1 = []\n",
        "temp2 = []\n",
        "temp3 = []\n",
        "\n",
        "for i in range(20):\n",
        "  temp1.append(int(y_test[i]))\n",
        "\n",
        "for i in range(20):\n",
        "  temp2.append(int(y_predicted[i]))\n",
        "\n",
        "\n",
        "for i in range(20):\n",
        "  temp3.append(i)\n",
        "\n",
        "#Printing original values\n",
        "print(\"Actual values -->\")\n",
        "print(temp1)\n",
        "\n",
        "#Printing predicted values\n",
        "print(\"\\nPredicted values -->\")\n",
        "print(temp2)\n",
        "\n",
        "print(\"\\n\"*2)\n",
        "\n",
        "plt.scatter(temp3, temp1, marker=\"*\", color = 'blue')\n",
        "plt.scatter(temp3, temp2, color = 'orange')"
      ],
      "execution_count": null,
      "outputs": [
        {
          "output_type": "stream",
          "text": [
            "Actual values -->\n",
            "[29, 27, 22, 34, 27, 16, 38, 14, 25, 17, 23, 26, 27, 33, 22, 24, 24, 29, 17, 24]\n",
            "\n",
            "Predicted values -->\n",
            "[29, 27, 23, 36, 26, 16, 35, 16, 25, 17, 22, 26, 29, 36, 22, 24, 26, 27, 16, 23]\n",
            "\n",
            "\n",
            "\n"
          ],
          "name": "stdout"
        },
        {
          "output_type": "execute_result",
          "data": {
            "text/plain": [
              "<matplotlib.collections.PathCollection at 0x7fd721bcaa10>"
            ]
          },
          "metadata": {
            "tags": []
          },
          "execution_count": 24
        },
        {
          "output_type": "display_data",
          "data": {
            "image/png": "[encoded data removed]",
            "text/plain": [
              "<Figure size 432x288 with 1 Axes>"
            ]
          },
          "metadata": {
            "tags": [],
            "needs_background": "light"
          }
        }
      ]
    },
    {
      "cell_type": "code",
      "metadata": {
        "id": "K9gXd6ZHSEPr",
        "colab": {
          "base_uri": "https://localhost:8080/"
        },
        "outputId": "30ca6e4c-c2bc-49b7-f121-88e392bc61c5"
      },
      "source": [
        "#Finding MSE value\n",
        "MSE = mean_squared_error(y_test, y_predicted)\n",
        "print(\"Mean Squared Error: %.5f\" %MSE)\n",
        "\n",
        "# Finding confidence value\n",
        "confidence = clf.score(X_test, y_predicted)\n",
        "print(\"Confidence:         %.5f\" %confidence)"
      ],
      "execution_count": null,
      "outputs": [
        {
          "output_type": "stream",
          "text": [
            "Mean Squared Error: 1.62522\n",
            "Confidence:         1.00000\n"
          ],
          "name": "stdout"
        }
      ]
    },
    {
      "cell_type": "code",
      "metadata": {
        "id": "pxgJNc_FSK1u",
        "colab": {
          "base_uri": "https://localhost:8080/"
        },
        "outputId": "ca1c1950-8c7d-4979-a0e4-1236ba152caa"
      },
      "source": [
        "#Making prediction on custom value\n",
        "custom_pred = clf.predict([[-2.93777787e-01, -9.02387310e-01, -1.05003377e-01, -3.19550752e-01]])\n",
        "print(\"The prediction for custom values : %.5f\" % custom_pred)"
      ],
      "execution_count": null,
      "outputs": [
        {
          "output_type": "stream",
          "text": [
            "The prediction for custom values : 24.58782\n"
          ],
          "name": "stdout"
        }
      ]
    },
    {
      "cell_type": "markdown",
      "metadata": {
        "id": "h4rI3U-PU_te"
      },
      "source": [
        "# **Thank you.**\n",
        "\n",
        "---"
      ]
    }
  ]
}