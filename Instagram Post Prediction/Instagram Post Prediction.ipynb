{
  "nbformat": 4,
  "nbformat_minor": 0,
  "metadata": {
    "colab": {
      "name": "Instagram post prediction.ipynb",
      "provenance": [],
      "collapsed_sections": []
    },
    "kernelspec": {
      "name": "python3",
      "display_name": "Python 3"
    }
  },
  "cells": [
    {
      "cell_type": "markdown",
      "metadata": {
        "id": "RvncQgCtApof"
      },
      "source": [
        "# **Instagram Post Reach Prediction using Python**\n",
        "\n",
        "by Jay Gohil\n",
        "\n",
        "---"
      ]
    },
    {
      "cell_type": "markdown",
      "metadata": {
        "id": "RJ3fjnxUo_ui"
      },
      "source": [
        "# **Importing necessary libraries**\n",
        "\n",
        "---"
      ]
    },
    {
      "cell_type": "code",
      "metadata": {
        "id": "7Pz7mv0CL4JI"
      },
      "source": [
        "import pandas as pd\n",
        "from sklearn.metrics import plot_confusion_matrix\n",
        "from sklearn.linear_model import LinearRegression\n",
        "from sklearn.model_selection import train_test_split\n",
        "from sklearn.metrics import mean_squared_error\n",
        "import matplotlib.pyplot as plt\n",
        "import seaborn as sns"
      ],
      "execution_count": null,
      "outputs": []
    },
    {
      "cell_type": "markdown",
      "metadata": {
        "id": "rKAViMMVpPyc"
      },
      "source": [
        "# **Loading the dataset**\n",
        "\n",
        "---"
      ]
    },
    {
      "cell_type": "code",
      "metadata": {
        "colab": {
          "base_uri": "https://localhost:8080/",
          "height": 491
        },
        "id": "aiL36DuYLfda",
        "outputId": "39ab6f49-1cc4-4b8a-e1d7-501deb77b5aa"
      },
      "source": [
        "#Reading CSV file\n",
        "df = pd.read_csv('https://raw.githubusercontent.com/github-goog/colab/main/instagram_dataset.csv')\n",
        "\n",
        "#Displaying top of CSV\n",
        "df.head(15)"
      ],
      "execution_count": null,
      "outputs": [
        {
          "output_type": "execute_result",
          "data": {
            "text/html": [
              "<div>\n",
              "<style scoped>\n",
              "    .dataframe tbody tr th:only-of-type {\n",
              "        vertical-align: middle;\n",
              "    }\n",
              "\n",
              "    .dataframe tbody tr th {\n",
              "        vertical-align: top;\n",
              "    }\n",
              "\n",
              "    .dataframe thead th {\n",
              "        text-align: right;\n",
              "    }\n",
              "</style>\n",
              "<table border=\"1\" class=\"dataframe\">\n",
              "  <thead>\n",
              "    <tr style=\"text-align: right;\">\n",
              "      <th></th>\n",
              "      <th>Unnamed: 0</th>\n",
              "      <th>S.No</th>\n",
              "      <th>USERNAME</th>\n",
              "      <th>Caption</th>\n",
              "      <th>Followers</th>\n",
              "      <th>Hashtags</th>\n",
              "      <th>Time since posted</th>\n",
              "      <th>Likes</th>\n",
              "      <th>time</th>\n",
              "    </tr>\n",
              "  </thead>\n",
              "  <tbody>\n",
              "    <tr>\n",
              "      <th>0</th>\n",
              "      <td>0</td>\n",
              "      <td>1</td>\n",
              "      <td>mikequindazzi</td>\n",
              "      <td>Who are #DataScientist and what do they do? &gt;&gt;...</td>\n",
              "      <td>1600</td>\n",
              "      <td>#MachineLearning #AI #DataAnalytics #DataScien...</td>\n",
              "      <td>11 hours</td>\n",
              "      <td>139</td>\n",
              "      <td>11</td>\n",
              "    </tr>\n",
              "    <tr>\n",
              "      <th>1</th>\n",
              "      <td>1</td>\n",
              "      <td>2</td>\n",
              "      <td>drgorillapaints</td>\n",
              "      <td>We all know where it’s going. We just have to ...</td>\n",
              "      <td>880</td>\n",
              "      <td>#deck .#mac #macintosh#sayhello #apple #steve...</td>\n",
              "      <td>2 hours</td>\n",
              "      <td>23</td>\n",
              "      <td>2</td>\n",
              "    </tr>\n",
              "    <tr>\n",
              "      <th>2</th>\n",
              "      <td>2</td>\n",
              "      <td>3</td>\n",
              "      <td>aitrading_official</td>\n",
              "      <td>Alexander Barinov: 4 years as CFO in multinati...</td>\n",
              "      <td>255</td>\n",
              "      <td>#whoiswho #aitrading #ai #aitradingteam#instat...</td>\n",
              "      <td>2 hours</td>\n",
              "      <td>25</td>\n",
              "      <td>2</td>\n",
              "    </tr>\n",
              "    <tr>\n",
              "      <th>3</th>\n",
              "      <td>3</td>\n",
              "      <td>4</td>\n",
              "      <td>opensourcedworkplace</td>\n",
              "      <td>sfad</td>\n",
              "      <td>340</td>\n",
              "      <td>#iot #cre#workplace #CDO #bigdata #technology#...</td>\n",
              "      <td>3 hours</td>\n",
              "      <td>49</td>\n",
              "      <td>3</td>\n",
              "    </tr>\n",
              "    <tr>\n",
              "      <th>4</th>\n",
              "      <td>4</td>\n",
              "      <td>5</td>\n",
              "      <td>crea.vision</td>\n",
              "      <td>Ever missed a call while your phone was chargi...</td>\n",
              "      <td>304</td>\n",
              "      <td>#instamachinelearning #instabigdata#instamarke...</td>\n",
              "      <td>3 hours</td>\n",
              "      <td>30</td>\n",
              "      <td>3</td>\n",
              "    </tr>\n",
              "    <tr>\n",
              "      <th>5</th>\n",
              "      <td>5</td>\n",
              "      <td>6</td>\n",
              "      <td>be.masterly</td>\n",
              "      <td>Cyber attacks are more frequent every day and ...</td>\n",
              "      <td>1231</td>\n",
              "      <td>#edtech #learning#educationtechnology #tech #l...</td>\n",
              "      <td>3 hours</td>\n",
              "      <td>18</td>\n",
              "      <td>3</td>\n",
              "    </tr>\n",
              "    <tr>\n",
              "      <th>6</th>\n",
              "      <td>6</td>\n",
              "      <td>7</td>\n",
              "      <td>lenovoworkstations</td>\n",
              "      <td>Check it out – we’re walking across the 🌎’s fi...</td>\n",
              "      <td>259</td>\n",
              "      <td>.#Tech #virtualreality #IoT #Machinelearning</td>\n",
              "      <td>3 hours</td>\n",
              "      <td>35</td>\n",
              "      <td>3</td>\n",
              "    </tr>\n",
              "    <tr>\n",
              "      <th>7</th>\n",
              "      <td>7</td>\n",
              "      <td>8</td>\n",
              "      <td>kirellb</td>\n",
              "      <td>Here's a network I made that depicts the scien...</td>\n",
              "      <td>1433</td>\n",
              "      <td>#datascientist #creativetechnology#design #art...</td>\n",
              "      <td>4 hours</td>\n",
              "      <td>86</td>\n",
              "      <td>4</td>\n",
              "    </tr>\n",
              "    <tr>\n",
              "      <th>8</th>\n",
              "      <td>8</td>\n",
              "      <td>9</td>\n",
              "      <td>ethicsandai</td>\n",
              "      <td>Having a great week at @ldntechweek exploring ...</td>\n",
              "      <td>13</td>\n",
              "      <td>#LTW #London #TechXLR8 #Technology#AI #Artific...</td>\n",
              "      <td>4 hours</td>\n",
              "      <td>22</td>\n",
              "      <td>4</td>\n",
              "    </tr>\n",
              "    <tr>\n",
              "      <th>9</th>\n",
              "      <td>9</td>\n",
              "      <td>10</td>\n",
              "      <td>diworksolucionesdeti</td>\n",
              "      <td>The Internet of Things : A Very Short Story [#...</td>\n",
              "      <td>450</td>\n",
              "      <td>[#Infographic] #Wearable #Sensors #MachineLear...</td>\n",
              "      <td>7 hours</td>\n",
              "      <td>18</td>\n",
              "      <td>7</td>\n",
              "    </tr>\n",
              "    <tr>\n",
              "      <th>10</th>\n",
              "      <td>10</td>\n",
              "      <td>11</td>\n",
              "      <td>databowl</td>\n",
              "      <td>Today we are featured in The Future CMO Magazi...</td>\n",
              "      <td>149</td>\n",
              "      <td>#artificialintelligence #futurism#machinelearn...</td>\n",
              "      <td>7 hours</td>\n",
              "      <td>31</td>\n",
              "      <td>7</td>\n",
              "    </tr>\n",
              "    <tr>\n",
              "      <th>11</th>\n",
              "      <td>11</td>\n",
              "      <td>13</td>\n",
              "      <td>edwisor_india</td>\n",
              "      <td>The IT industry is rapidly booming. Is your ca...</td>\n",
              "      <td>2232</td>\n",
              "      <td>#WedenesdayWisdom #IndustryInsights#GetSkilled...</td>\n",
              "      <td>8 hours</td>\n",
              "      <td>48</td>\n",
              "      <td>8</td>\n",
              "    </tr>\n",
              "    <tr>\n",
              "      <th>12</th>\n",
              "      <td>12</td>\n",
              "      <td>14</td>\n",
              "      <td>ubiqum</td>\n",
              "      <td>Just an average day for a programmer 😖 #workth...</td>\n",
              "      <td>1061</td>\n",
              "      <td>#webdevelopment #coding #programming#codinglif...</td>\n",
              "      <td>9 hours</td>\n",
              "      <td>80</td>\n",
              "      <td>9</td>\n",
              "    </tr>\n",
              "    <tr>\n",
              "      <th>13</th>\n",
              "      <td>13</td>\n",
              "      <td>15</td>\n",
              "      <td>artificialintelligence.a.i</td>\n",
              "      <td>Tag him who promised to help you but he doesn'...</td>\n",
              "      <td>533</td>\n",
              "      <td>#artificialintelligence #ai#machinelearning#de...</td>\n",
              "      <td>11 hours</td>\n",
              "      <td>94</td>\n",
              "      <td>11</td>\n",
              "    </tr>\n",
              "    <tr>\n",
              "      <th>14</th>\n",
              "      <td>14</td>\n",
              "      <td>18</td>\n",
              "      <td>ansonmccade</td>\n",
              "      <td>Do you really need #blockchain?</td>\n",
              "      <td>2904</td>\n",
              "      <td>#blockchaintechnology #blockchains #tech#techn...</td>\n",
              "      <td>3 hours</td>\n",
              "      <td>28</td>\n",
              "      <td>3</td>\n",
              "    </tr>\n",
              "  </tbody>\n",
              "</table>\n",
              "</div>"
            ],
            "text/plain": [
              "    Unnamed: 0  S.No                    USERNAME  ... Time since posted  Likes time\n",
              "0            0     1               mikequindazzi  ...          11 hours    139   11\n",
              "1            1     2             drgorillapaints  ...           2 hours     23    2\n",
              "2            2     3          aitrading_official  ...           2 hours     25    2\n",
              "3            3     4        opensourcedworkplace  ...           3 hours     49    3\n",
              "4            4     5                 crea.vision  ...           3 hours     30    3\n",
              "5            5     6                 be.masterly  ...           3 hours     18    3\n",
              "6            6     7          lenovoworkstations  ...           3 hours     35    3\n",
              "7            7     8                     kirellb  ...           4 hours     86    4\n",
              "8            8     9                 ethicsandai  ...           4 hours     22    4\n",
              "9            9    10        diworksolucionesdeti  ...           7 hours     18    7\n",
              "10          10    11                    databowl  ...           7 hours     31    7\n",
              "11          11    13               edwisor_india  ...           8 hours     48    8\n",
              "12          12    14                      ubiqum  ...           9 hours     80    9\n",
              "13          13    15  artificialintelligence.a.i  ...          11 hours     94   11\n",
              "14          14    18                 ansonmccade  ...           3 hours     28    3\n",
              "\n",
              "[15 rows x 9 columns]"
            ]
          },
          "metadata": {
            "tags": []
          },
          "execution_count": 2
        }
      ]
    },
    {
      "cell_type": "markdown",
      "metadata": {
        "id": "rkdTSWDUpYzZ"
      },
      "source": [
        "# **Dropping unnecessary columns**\n",
        "\n",
        "---"
      ]
    },
    {
      "cell_type": "code",
      "metadata": {
        "id": "r1KrvHtHLl2L"
      },
      "source": [
        "#Dropping irrelevant columns\n",
        "df = df.drop(df.columns[[0]], axis=1)\n",
        "df = df.drop(['S.No','USERNAME', 'Caption', 'Hashtags', 'Time since posted'], axis=1)\n",
        "#print(df) [All colums are dropped now]"
      ],
      "execution_count": null,
      "outputs": []
    },
    {
      "cell_type": "code",
      "metadata": {
        "colab": {
          "base_uri": "https://localhost:8080/",
          "height": 491
        },
        "id": "vc0WhQbzvNz5",
        "outputId": "9a5d7857-1eba-4543-fe00-32d51326d1ce"
      },
      "source": [
        "#Displaying updated dataset\n",
        "df.head(15)"
      ],
      "execution_count": null,
      "outputs": [
        {
          "output_type": "execute_result",
          "data": {
            "text/html": [
              "<div>\n",
              "<style scoped>\n",
              "    .dataframe tbody tr th:only-of-type {\n",
              "        vertical-align: middle;\n",
              "    }\n",
              "\n",
              "    .dataframe tbody tr th {\n",
              "        vertical-align: top;\n",
              "    }\n",
              "\n",
              "    .dataframe thead th {\n",
              "        text-align: right;\n",
              "    }\n",
              "</style>\n",
              "<table border=\"1\" class=\"dataframe\">\n",
              "  <thead>\n",
              "    <tr style=\"text-align: right;\">\n",
              "      <th></th>\n",
              "      <th>Followers</th>\n",
              "      <th>Likes</th>\n",
              "      <th>time</th>\n",
              "    </tr>\n",
              "  </thead>\n",
              "  <tbody>\n",
              "    <tr>\n",
              "      <th>0</th>\n",
              "      <td>1600</td>\n",
              "      <td>139</td>\n",
              "      <td>11</td>\n",
              "    </tr>\n",
              "    <tr>\n",
              "      <th>1</th>\n",
              "      <td>880</td>\n",
              "      <td>23</td>\n",
              "      <td>2</td>\n",
              "    </tr>\n",
              "    <tr>\n",
              "      <th>2</th>\n",
              "      <td>255</td>\n",
              "      <td>25</td>\n",
              "      <td>2</td>\n",
              "    </tr>\n",
              "    <tr>\n",
              "      <th>3</th>\n",
              "      <td>340</td>\n",
              "      <td>49</td>\n",
              "      <td>3</td>\n",
              "    </tr>\n",
              "    <tr>\n",
              "      <th>4</th>\n",
              "      <td>304</td>\n",
              "      <td>30</td>\n",
              "      <td>3</td>\n",
              "    </tr>\n",
              "    <tr>\n",
              "      <th>5</th>\n",
              "      <td>1231</td>\n",
              "      <td>18</td>\n",
              "      <td>3</td>\n",
              "    </tr>\n",
              "    <tr>\n",
              "      <th>6</th>\n",
              "      <td>259</td>\n",
              "      <td>35</td>\n",
              "      <td>3</td>\n",
              "    </tr>\n",
              "    <tr>\n",
              "      <th>7</th>\n",
              "      <td>1433</td>\n",
              "      <td>86</td>\n",
              "      <td>4</td>\n",
              "    </tr>\n",
              "    <tr>\n",
              "      <th>8</th>\n",
              "      <td>13</td>\n",
              "      <td>22</td>\n",
              "      <td>4</td>\n",
              "    </tr>\n",
              "    <tr>\n",
              "      <th>9</th>\n",
              "      <td>450</td>\n",
              "      <td>18</td>\n",
              "      <td>7</td>\n",
              "    </tr>\n",
              "    <tr>\n",
              "      <th>10</th>\n",
              "      <td>149</td>\n",
              "      <td>31</td>\n",
              "      <td>7</td>\n",
              "    </tr>\n",
              "    <tr>\n",
              "      <th>11</th>\n",
              "      <td>2232</td>\n",
              "      <td>48</td>\n",
              "      <td>8</td>\n",
              "    </tr>\n",
              "    <tr>\n",
              "      <th>12</th>\n",
              "      <td>1061</td>\n",
              "      <td>80</td>\n",
              "      <td>9</td>\n",
              "    </tr>\n",
              "    <tr>\n",
              "      <th>13</th>\n",
              "      <td>533</td>\n",
              "      <td>94</td>\n",
              "      <td>11</td>\n",
              "    </tr>\n",
              "    <tr>\n",
              "      <th>14</th>\n",
              "      <td>2904</td>\n",
              "      <td>28</td>\n",
              "      <td>3</td>\n",
              "    </tr>\n",
              "  </tbody>\n",
              "</table>\n",
              "</div>"
            ],
            "text/plain": [
              "    Followers  Likes  time\n",
              "0        1600    139    11\n",
              "1         880     23     2\n",
              "2         255     25     2\n",
              "3         340     49     3\n",
              "4         304     30     3\n",
              "5        1231     18     3\n",
              "6         259     35     3\n",
              "7        1433     86     4\n",
              "8          13     22     4\n",
              "9         450     18     7\n",
              "10        149     31     7\n",
              "11       2232     48     8\n",
              "12       1061     80     9\n",
              "13        533     94    11\n",
              "14       2904     28     3"
            ]
          },
          "metadata": {
            "tags": []
          },
          "execution_count": 5
        }
      ]
    },
    {
      "cell_type": "markdown",
      "metadata": {
        "id": "AkPIO7ITpeN0"
      },
      "source": [
        "# **Visualizing the dataset**\n",
        "\n",
        "---"
      ]
    },
    {
      "cell_type": "code",
      "metadata": {
        "colab": {
          "base_uri": "https://localhost:8080/",
          "height": 282
        },
        "id": "fnGRAX0gPwMB",
        "outputId": "22c428d9-800d-487d-b488-4891046ab485"
      },
      "source": [
        "# plotting a simple graph\n",
        "df.plot()"
      ],
      "execution_count": null,
      "outputs": [
        {
          "output_type": "execute_result",
          "data": {
            "text/plain": [
              "<matplotlib.axes._subplots.AxesSubplot at 0x7f97264017d0>"
            ]
          },
          "metadata": {
            "tags": []
          },
          "execution_count": 7
        },
        {
          "output_type": "display_data",
          "data": {
            "image/png": "[encoded data removed]",
            "text/plain": [
              "<Figure size 432x288 with 1 Axes>"
            ]
          },
          "metadata": {
            "tags": [],
            "needs_background": "light"
          }
        }
      ]
    },
    {
      "cell_type": "code",
      "metadata": {
        "colab": {
          "base_uri": "https://localhost:8080/",
          "height": 319
        },
        "id": "L6kv_kZeZA3N",
        "outputId": "3bd38e3a-1d42-4104-e1d1-61b9677e0fbc"
      },
      "source": [
        "#Checking correlation among features\n",
        "print(\"Visualizing correlation between features using heatmap -->\\n\")\n",
        "sns.heatmap(df.corr(method=\"pearson\"), cmap='Reds')\n",
        "#method=\"pearson\"\n",
        "#cmap='Reds'"
      ],
      "execution_count": null,
      "outputs": [
        {
          "output_type": "stream",
          "text": [
            "Visualizing correlation between features using heatmap -->\n",
            "\n"
          ],
          "name": "stdout"
        },
        {
          "output_type": "execute_result",
          "data": {
            "text/plain": [
              "<matplotlib.axes._subplots.AxesSubplot at 0x7f9726385210>"
            ]
          },
          "metadata": {
            "tags": []
          },
          "execution_count": 8
        },
        {
          "output_type": "display_data",
          "data": {
            "image/png": "[encoded data removed]",
            "text/plain": [
              "<Figure size 432x288 with 2 Axes>"
            ]
          },
          "metadata": {
            "tags": [],
            "needs_background": "light"
          }
        }
      ]
    },
    {
      "cell_type": "code",
      "metadata": {
        "colab": {
          "base_uri": "https://localhost:8080/",
          "height": 265
        },
        "id": "UOJcfKHPPV7o",
        "outputId": "c8d8fcb9-ff40-4179-ab09-ba84c31bac6d"
      },
      "source": [
        "plt.hist(df[\"Followers\"])\n",
        "plt.show()"
      ],
      "execution_count": null,
      "outputs": [
        {
          "output_type": "display_data",
          "data": {
            "image/png": "[encoded data removed]",
            "text/plain": [
              "<Figure size 432x288 with 1 Axes>"
            ]
          },
          "metadata": {
            "tags": [],
            "needs_background": "light"
          }
        }
      ]
    },
    {
      "cell_type": "code",
      "metadata": {
        "colab": {
          "base_uri": "https://localhost:8080/",
          "height": 265
        },
        "id": "E-Lwn5HIRlAM",
        "outputId": "f1a19027-cc80-45ec-d3a8-a0ab9bc4caec"
      },
      "source": [
        "plt.hist(df[\"time\"], color=['green'])\n",
        "plt.show()"
      ],
      "execution_count": null,
      "outputs": [
        {
          "output_type": "display_data",
          "data": {
            "image/png": "[encoded data removed]",
            "text/plain": [
              "<Figure size 432x288 with 1 Axes>"
            ]
          },
          "metadata": {
            "tags": [],
            "needs_background": "light"
          }
        }
      ]
    },
    {
      "cell_type": "code",
      "metadata": {
        "colab": {
          "base_uri": "https://localhost:8080/",
          "height": 265
        },
        "id": "5LVBBBPaRusj",
        "outputId": "93dc70a4-f986-4876-fa72-0211c1d1effa"
      },
      "source": [
        "plt.hist(df[\"Likes\"], color=['orange'])\n",
        "plt.show()"
      ],
      "execution_count": null,
      "outputs": [
        {
          "output_type": "display_data",
          "data": {
            "image/png": "[encoded data removed]",
            "text/plain": [
              "<Figure size 432x288 with 1 Axes>"
            ]
          },
          "metadata": {
            "tags": [],
            "needs_background": "light"
          }
        }
      ]
    },
    {
      "cell_type": "markdown",
      "metadata": {
        "id": "HFP0SoL7pwIm"
      },
      "source": [
        "# **Preparing the dataset for Machine Learning**\n",
        "\n",
        "---"
      ]
    },
    {
      "cell_type": "code",
      "metadata": {
        "colab": {
          "base_uri": "https://localhost:8080/"
        },
        "id": "j86gSJi5NRSz",
        "outputId": "8b82e641-6e31-4a21-fb18-33b2a76822d1"
      },
      "source": [
        "#Drppoing 'Likes' column from 'X' and adding it into 'y'\n",
        "X = df.drop('Likes', axis=1)\n",
        "y = df[['Likes']]\n",
        "\n",
        "print(\"X dataset --> \")\n",
        "print()\n",
        "print(X)\n",
        "print()\n",
        "print()\n",
        "print(\"Y dataset --> \")\n",
        "print()\n",
        "print(y)\n",
        "print()"
      ],
      "execution_count": null,
      "outputs": [
        {
          "output_type": "stream",
          "text": [
            "X dataset --> \n",
            "\n",
            "    Followers  time\n",
            "0        1600    11\n",
            "1         880     2\n",
            "2         255     2\n",
            "3         340     3\n",
            "4         304     3\n",
            "..        ...   ...\n",
            "95        614     3\n",
            "96        450     3\n",
            "97        182     3\n",
            "98       2039     3\n",
            "99        741     3\n",
            "\n",
            "[100 rows x 2 columns]\n",
            "\n",
            "\n",
            "Y dataset --> \n",
            "\n",
            "    Likes\n",
            "0     139\n",
            "1      23\n",
            "2      25\n",
            "3      49\n",
            "4      30\n",
            "..    ...\n",
            "95     31\n",
            "96     42\n",
            "97     10\n",
            "98    222\n",
            "99    109\n",
            "\n",
            "[100 rows x 1 columns]\n",
            "\n"
          ],
          "name": "stdout"
        }
      ]
    },
    {
      "cell_type": "code",
      "metadata": {
        "colab": {
          "base_uri": "https://localhost:8080/",
          "height": 580
        },
        "id": "sPV0uYPkp5xI",
        "outputId": "fe3dd487-8e75-472a-aa19-3001ff112df9"
      },
      "source": [
        "print()\n",
        "plot1 = X.plot()\n",
        "print()\n",
        "plot2 = y.plot()\n",
        "\n",
        "print(plot1)\n",
        "print(plot2)"
      ],
      "execution_count": null,
      "outputs": [
        {
          "output_type": "stream",
          "text": [
            "\n",
            "\n",
            "AxesSubplot(0.125,0.125;0.775x0.755)\n",
            "AxesSubplot(0.125,0.125;0.775x0.755)\n"
          ],
          "name": "stdout"
        },
        {
          "output_type": "display_data",
          "data": {
            "image/png": "[encoded data removed]",
            "text/plain": [
              "<Figure size 432x288 with 1 Axes>"
            ]
          },
          "metadata": {
            "tags": [],
            "needs_background": "light"
          }
        },
        {
          "output_type": "display_data",
          "data": {
            "image/png": "[encoded data removed]",
            "text/plain": [
              "<Figure size 432x288 with 1 Axes>"
            ]
          },
          "metadata": {
            "tags": [],
            "needs_background": "light"
          }
        }
      ]
    },
    {
      "cell_type": "code",
      "metadata": {
        "colab": {
          "base_uri": "https://localhost:8080/"
        },
        "id": "Exk-uEueNZIS",
        "outputId": "03bc03b7-3297-477a-85a3-a484c902f1cf"
      },
      "source": [
        "#Splliting the dataset into 80:20 ratio\n",
        "X_train, X_test, y_train, y_test = train_test_split(X, y, test_size=0.2, random_state=1)\n",
        "\n",
        "while True:\n",
        "  print(\"Dataset split completed!\")\n",
        "  break"
      ],
      "execution_count": null,
      "outputs": [
        {
          "output_type": "stream",
          "text": [
            "Dataset split completed!\n"
          ],
          "name": "stdout"
        }
      ]
    },
    {
      "cell_type": "markdown",
      "metadata": {
        "id": "KjtNRDA5qABr"
      },
      "source": [
        "# **Creating ML multivariate regression model**\n",
        "\n",
        "---"
      ]
    },
    {
      "cell_type": "code",
      "metadata": {
        "colab": {
          "base_uri": "https://localhost:8080/"
        },
        "id": "ZpL1UDPENm2f",
        "outputId": "49141411-70e7-4c27-ad4d-7bfc3c11671a"
      },
      "source": [
        "#Training the model\n",
        "reg = LinearRegression()\n",
        "reg.fit(X_train[['Followers','time']], y_train)\n",
        "\n",
        "while True:\n",
        "  print(\"Model training complete!\")\n",
        "  break"
      ],
      "execution_count": null,
      "outputs": [
        {
          "output_type": "stream",
          "text": [
            "Model training complete!\n"
          ],
          "name": "stdout"
        }
      ]
    },
    {
      "cell_type": "markdown",
      "metadata": {
        "id": "pQbjKOAfqLZl"
      },
      "source": [
        "# **Making predictions on test dataset**\n",
        "\n",
        "---"
      ]
    },
    {
      "cell_type": "code",
      "metadata": {
        "colab": {
          "base_uri": "https://localhost:8080/"
        },
        "id": "bVGha7Q1NwqL",
        "outputId": "395c31a8-0904-4a57-c7d0-4e523ee84e75"
      },
      "source": [
        "#Making prediction on test dataset\n",
        "y_predicted = reg.predict(X_test[['Followers','time']])\n",
        "\n",
        "print(y_predicted)"
      ],
      "execution_count": null,
      "outputs": [
        {
          "output_type": "stream",
          "text": [
            "[[ 29.32141621]\n",
            " [ 40.01992577]\n",
            " [ 31.15514132]\n",
            " [ 32.23977022]\n",
            " [ 29.47357638]\n",
            " [ 50.47653967]\n",
            " [ 32.03298845]\n",
            " [ 32.07200388]\n",
            " [ 32.68844764]\n",
            " [ 36.63290742]\n",
            " [ 29.18876375]\n",
            " [153.05289191]\n",
            " [ 30.8430179 ]\n",
            " [ 49.80547431]\n",
            " [ 57.33155037]\n",
            " [ 32.26317948]\n",
            " [ 28.82201873]\n",
            " [ 29.23558227]\n",
            " [ 29.73497974]\n",
            " [ 78.5378731 ]]\n"
          ],
          "name": "stdout"
        }
      ]
    },
    {
      "cell_type": "markdown",
      "metadata": {
        "id": "nckW3nDVqTnd"
      },
      "source": [
        "# **Visualizing predictions**\n",
        "\n",
        "---"
      ]
    },
    {
      "cell_type": "code",
      "metadata": {
        "colab": {
          "base_uri": "https://localhost:8080/",
          "height": 416
        },
        "id": "-9rAMOvQmIfX",
        "outputId": "58cb533e-c1e0-4af8-ecea-ed09df3a7ac4"
      },
      "source": [
        "temp1 = []\n",
        "temp2 = []\n",
        "temp3 = []\n",
        "\n",
        "for i in range(len(y_test.values)):\n",
        "  temp1.append(int(y_test.values[i]))\n",
        "\n",
        "for i in range(len(y_predicted)):\n",
        "  temp2.append(int(y_predicted[i]))\n",
        "\n",
        "for i in range(len(y_predicted)):\n",
        "  temp3.append(i)\n",
        "\n",
        "#Printing original values\n",
        "print(\"Actual values -->\")\n",
        "print(temp1)\n",
        "\n",
        "#Printing predicted values\n",
        "print(\"\\nPredicted values -->\")\n",
        "print(temp2)\n",
        "\n",
        "print(temp3)\n",
        "\n",
        "print(\"\\n\"*2)\n",
        "\n",
        "plt.scatter(temp3, temp1, marker=\"*\", color = 'red')\n",
        "plt.scatter(temp3, temp2, color = 'green')"
      ],
      "execution_count": null,
      "outputs": [
        {
          "output_type": "stream",
          "text": [
            "Actual values -->\n",
            "[28, 33, 30, 43, 20, 46, 93, 31, 40, 29, 12, 136, 17, 17, 157, 14, 19, 16, 12, 31]\n",
            "\n",
            "Predicted values -->\n",
            "[29, 40, 31, 32, 29, 50, 32, 32, 32, 36, 29, 153, 30, 49, 57, 32, 28, 29, 29, 78]\n",
            "\n",
            "\n",
            "\n"
          ],
          "name": "stdout"
        },
        {
          "output_type": "execute_result",
          "data": {
            "text/plain": [
              "<matplotlib.collections.PathCollection at 0x7f971b86af10>"
            ]
          },
          "metadata": {
            "tags": []
          },
          "execution_count": 18
        },
        {
          "output_type": "display_data",
          "data": {
            "image/png": "[encoded data removed]",
            "text/plain": [
              "<Figure size 432x288 with 1 Axes>"
            ]
          },
          "metadata": {
            "tags": [],
            "needs_background": "light"
          }
        }
      ]
    },
    {
      "cell_type": "markdown",
      "metadata": {
        "id": "fOsw56kfqZSm"
      },
      "source": [
        "# **Evaluating model**\n",
        "\n",
        "---"
      ]
    },
    {
      "cell_type": "code",
      "metadata": {
        "colab": {
          "base_uri": "https://localhost:8080/"
        },
        "id": "rRfxDMdhpuoB",
        "outputId": "14a03782-04cb-4199-e68c-f964e0d3e537"
      },
      "source": [
        "#Printing the prediction's MSE value\n",
        "pred = mean_squared_error(y_test, y_predicted)\n",
        "print(\"Mean Squared Error   --> %.5f\" % pred)"
      ],
      "execution_count": null,
      "outputs": [
        {
          "output_type": "stream",
          "text": [
            "Mean Squared Error   --> 953.76172\n"
          ],
          "name": "stdout"
        }
      ]
    },
    {
      "cell_type": "markdown",
      "metadata": {
        "id": "Q5ZShaXYqdpI"
      },
      "source": [
        "# **Making prediction on custom values**\n",
        "\n",
        "---"
      ]
    },
    {
      "cell_type": "code",
      "metadata": {
        "colab": {
          "base_uri": "https://localhost:8080/"
        },
        "id": "wR-RJpH3N1X3",
        "outputId": "022b01a3-0c9a-4255-c21e-7906bbd6dc34"
      },
      "source": [
        "#Making prediction on custom value\n",
        "custom_pred = reg.predict([[1000,3]])\n",
        "print(\"The prediction for custom values : %.5f\" % custom_pred[0][0])"
      ],
      "execution_count": null,
      "outputs": [
        {
          "output_type": "stream",
          "text": [
            "The prediction for custom values : 42.51301\n"
          ],
          "name": "stdout"
        }
      ]
    },
    {
      "cell_type": "markdown",
      "metadata": {
        "id": "DqEGMd5yqkCK"
      },
      "source": [
        "# **Thank you!**\n",
        "\n",
        "---"
      ]
    }
  ]
}